{
 "cells": [
  {
   "cell_type": "code",
   "execution_count": 4,
   "id": "ea603005-d8ae-4b43-b39c-cd0bd19ff248",
   "metadata": {},
   "outputs": [],
   "source": [
    "from bs4 import BeautifulSoup\n",
    "import requests\n",
    "import re"
   ]
  },
  {
   "cell_type": "code",
   "execution_count": 5,
   "id": "f08c24e1-1cbb-4766-8ceb-8aae542a2543",
   "metadata": {
    "tags": []
   },
   "outputs": [],
   "source": [
    "#print(soup.find_all('a')[100].get_text())\n",
    "#e[^a-zA-Z]\n",
    "#array= re.findall(r\"https://www.arab-books.com\\S+\",page.text )    \n",
    "#array= re.findall(\"https://arab-books.com/books/\",page.text )    \n",
    "#x=\"https://www.arab-books.com/books/\"\n",
    "#https://www.arab-books.com/books\n",
    "#array=re.findall(x,page.text)\n",
    "#array= re.findall('https://www.arab-books.com/books/[^\"]+\\S+',page.text )\n",
    "#array= re.findall(\"<a>\",page.text )\n",
    "#print(len(array))"
   ]
  },
  {
   "cell_type": "code",
   "execution_count": 6,
   "id": "bd4ac232-55f2-4e75-a987-2717c06a8a94",
   "metadata": {},
   "outputs": [],
   "source": [
    "def GetPage(Link,FileName) : \n",
    "    page = requests.get(Link)\n",
    "    soup = BeautifulSoup(page.content, 'html.parser')\n",
    "    array= re.findall('https://www.arab-books.com/books/[^\"]+\\S+',page.text )\n",
    "    if len(array) ==0 : return None\n",
    "    f = open(FileName,'a',encoding = 'utf-8')\n",
    "    for i in range(0,len(array),3) : \n",
    "        f.write(array[i].replace(\"\\\"\", \"\"))\n",
    "        f.write('\\n')\n",
    "    f.close()"
   ]
  },
  {
   "cell_type": "code",
   "execution_count": 7,
   "id": "2fd8114a-d088-4ad8-9928-e4ab5e053d70",
   "metadata": {
    "tags": []
   },
   "outputs": [],
   "source": [
    "GetPage('https://www.arab-books.com/','LinksOfBooks.txt')\n",
    "for i in range(2,201):\n",
    "    index=str(i)\n",
    "    GetPage('https://www.arab-books.com//page/'+index,'LinksOfBooks.txt')\n",
    "  "
   ]
  },
  {
   "cell_type": "code",
   "execution_count": null,
   "id": "7f45e05e-198e-49fa-a3a9-4f4d0fa57291",
   "metadata": {
    "tags": []
   },
   "outputs": [],
   "source": []
  }
 ],
 "metadata": {
  "kernelspec": {
   "display_name": "Python 3",
   "language": "python",
   "name": "python3"
  },
  "language_info": {
   "codemirror_mode": {
    "name": "ipython",
    "version": 3
   },
   "file_extension": ".py",
   "mimetype": "text/x-python",
   "name": "python",
   "nbconvert_exporter": "python",
   "pygments_lexer": "ipython3",
   "version": "3.8.8"
  }
 },
 "nbformat": 4,
 "nbformat_minor": 5
}
